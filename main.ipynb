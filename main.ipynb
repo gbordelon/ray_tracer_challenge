{
 "cells": [
  {
   "cell_type": "code",
   "execution_count": 71,
   "metadata": {
    "scrolled": true
   },
   "outputs": [],
   "source": [
    "%run chapter\\ 1.ipynb\n",
    "%run chapter\\ 2.ipynb\n",
    "%run chapter\\ 3.ipynb\n",
    "%run chapter\\ 4.ipynb\n",
    "%run chapter\\ 5.ipynb\n",
    "%run chapter\\ 6.ipynb\n",
    "%run chapter\\ 7.ipynb\n",
    "%run chapter\\ 10.ipynb"
   ]
  },
  {
   "cell_type": "code",
   "execution_count": 91,
   "metadata": {
    "scrolled": true
   },
   "outputs": [
    {
     "data": {
      "text/plain": [
       "TestResults(failed=0, attempted=906)"
      ]
     },
     "execution_count": 91,
     "metadata": {},
     "output_type": "execute_result"
    }
   ],
   "source": [
    "%run chapter\\ 7.ipynb\n",
    "import doctest\n",
    "doctest.testmod()"
   ]
  },
  {
   "cell_type": "code",
   "execution_count": null,
   "metadata": {},
   "outputs": [],
   "source": []
  },
  {
   "cell_type": "code",
   "execution_count": 51,
   "metadata": {
    "scrolled": true
   },
   "outputs": [
    {
     "name": "stdout",
     "output_type": "stream",
     "text": [
      "canvas construction start at 2019-08-31 05:19:09.605468+00:00\n",
      "canvas constructed in 13.201871 seconds.\n",
      "ppm constructed\n",
      "ppm file written\n"
     ]
    },
    {
     "data": {
      "text/plain": [
       "<matplotlib.image.AxesImage at 0x6c7c5b50>"
      ]
     },
     "execution_count": 51,
     "metadata": {},
     "output_type": "execute_result"
    },
    {
     "data": {
      "image/png": "[encoded data removed]",
      "text/plain": [
       "<Figure size 432x288 with 1 Axes>"
      ]
     },
     "metadata": {
      "needs_background": "light"
     },
     "output_type": "display_data"
    }
   ],
   "source": [
    "cam_w = 50\n",
    "cam_h = cam_w\n",
    "\n",
    "close_up = False\n",
    "\n",
    "file_name = './cornellbox13.'\n",
    "ppm_ext = 'ppm'\n",
    "jpg_ext = 'jpg'\n",
    "\n",
    "wall_color = color(1, 0.9, 0.9)\n",
    "camera_transform = (point(0, 2.0, -8), point(0, 2.0, 1), vector(0, 1, 0))\n",
    "if close_up:\n",
    "    camera_transform = (point(0, 2.0, -3), point(-0.5, 1.0, 1), vector(0, 1, 0))\n",
    "\n",
    "\n",
    "world = default_world()\n",
    "world.contains = []\n",
    "world.lights = [point_light(point(1.5, 4.8, 1.5), color(.1, .1, .1)),\n",
    "                point_light(point(0, 4.8, 1.5), color(.1, .1, .1)),\n",
    "                point_light(point(-1.5, 4.8, 1.5), color(.1, .1, .1)),\n",
    "                point_light(point(1.5, 4.8, 0), color(.1, .1, .1)),\n",
    "                point_light(point(0, 4.8, 0), color(.2, .2, .2)),\n",
    "                point_light(point(-1.5, 4.8, 0), color(.1, .1, .1)),\n",
    "                point_light(point(1.5, 4.8, -1.5), color(.1, .1, .1)),\n",
    "                point_light(point(0, 4.8, -1.5), color(.1, .1, .1)),\n",
    "                point_light(point(-1.5, 4.8, -1.5), color(.1, .1, .1))]\n",
    "\n",
    "world.lights = [point_light(point(0, 4.5, 0), color(1, 1, 1))]\n",
    "if close_up:\n",
    "    world.lights = [point_light(point(0, 2, -1), color(1, 1, 1))]\n",
    "\n",
    "p1 = gradient_pattern(wall_color, BLACK)\n",
    "p1.transform = matrix_multiply(translation(np.sqrt(72),0,0), matrix_multiply(rotation_y(np.pi/4), scaling(np.sqrt(72) + 0.5, np.sqrt(72) + 0.5, np.sqrt(72) + 0.5)))\n",
    "\n",
    "p2 = stripe_pattern(color(1,0,0), color(1, 0.7, 0.8))\n",
    "p2.transform = matrix_multiply(rotation_y(np.pi/4), scaling(0.15,1,1))\n",
    "\n",
    "p3 = blended_pattern(blended_pattern(p1, p2), ring_pattern(color(0,0,1), color(0,0,0.1)))\n",
    "\n",
    "p4 = stripe_pattern(WHITE, color(0.8, 0.8, 0.8))\n",
    "p4.transform = matrix_multiply(rotation_y(-np.pi/4), scaling(0.1,1,1))\n",
    "\n",
    "p5 = nested_pattern(p1, p2, p4)\n",
    "p6 = checker_pattern(WHITE, BLACK)\n",
    "p6.transform = matrix_multiply(shearing(1,0,0,0,0,0), scaling(0.5,0.5,0.5))#matrix_multiply(rotation_x(-np.pi/4), scaling(0.1,0.1,0.1))\n",
    "p7 = perturbed_pattern(p5)\n",
    "\n",
    "p8 = perturbed_pattern(p6, scale_factor=0.2, frequency=0.4, octaves=1)#p6#uv_map_pattern(perturbed_pattern(p6, scale_factor=0.2, frequency=0.4, octaves=1))\n",
    "#p9 = perturbed_pattern(p2, scale_factor=0.3, frequency=0.4, octaves=1)\n",
    "\n",
    "p9 = perturbed_pattern(p1, scale_factor=2.0, frequency=1, octaves=1)\n",
    "\n",
    "floor = plane()\n",
    "floor.material.color = wall_color\n",
    "floor.material.specular = 0\n",
    "#floor.material.reflective = 1.0\n",
    "#floor.material.pattern = p9\n",
    "\n",
    "ceiling = plane()\n",
    "ceiling.material.color = wall_color\n",
    "#ceiling.material.reflective = 1.0\n",
    "ceiling.transform = translation(0,5,0)\n",
    "\n",
    "\n",
    "back_wall = plane()\n",
    "back_wall.transform = matrix_multiply(translation(0,0,3), rotation_x(np.pi/2))\n",
    "back_wall.material.color = wall_color\n",
    "back_wall.material.specular = 0\n",
    "back_wall.material.pattern = p9\n",
    "\n",
    "\n",
    "left_wall = plane()\n",
    "left_wall.material.color = color(1,0,0)\n",
    "left_wall.material.specular = 0\n",
    "left_wall.transform = matrix_multiply(translation(-3, 0, 0), rotation_z(-np.pi/2))\n",
    "\n",
    "\n",
    "right_wall = plane()\n",
    "right_wall.material.color = color(0,1,0)\n",
    "right_wall.material.specular = 0\n",
    "right_wall.transform = matrix_multiply(translation(3, 0, 0), rotation_z(np.pi/2))\n",
    "\n",
    "\n",
    "middle = sphere()\n",
    "middle.transform = translation(-0.5, 1, 0.5) #matrix_multiply(translation(-0.5, 1, 0.5), rotation_y(np.pi/8))\n",
    "middle.material = material()\n",
    "middle.material.color = color(0.1, 1, 0.5)\n",
    "middle.material.diffuse = 0.7\n",
    "middle.material.specular = 0.3\n",
    "middle.material.pattern = p8\n",
    "#middle.material.pattern.transform = rotation_x(-np.pi/4)\n",
    "\n",
    "\n",
    "right = sphere()\n",
    "right.transform = matrix_multiply(translation(1.5, 0.5, -0.5), scaling(0.5, 0.5, 0.5))\n",
    "right.material = material()\n",
    "right.material.color = color(0.5, 1, 0.1)\n",
    "right.material.diffuse = 0.7\n",
    "right.material.specular = 0.3\n",
    "right.material.reflective = 1.0\n",
    "\n",
    "\n",
    "left = sphere()\n",
    "left.transform = matrix_multiply(translation(-1.5, 0.33, -0.75), scaling(0.33, 0.33, 0.33))\n",
    "left.material = material()\n",
    "left.material.color = color(1, 0.8, 0.1)\n",
    "left.material.diffuse = 0.7\n",
    "left.material.specular = 0.3\n",
    "\n",
    "\n",
    "world.contains.extend([floor, ceiling, left_wall, right_wall, back_wall, middle, right, left])\n",
    "\n",
    "\n",
    "cam = camera(cam_w, cam_h, np.pi/3)\n",
    "cam.transform = view_transform(*camera_transform)\n",
    "\n",
    "\n",
    "from datetime import datetime, timezone, timedelta\n",
    "now = datetime.now(timezone.utc)\n",
    "epoch = datetime(1970, 1, 1, tzinfo=timezone.utc) # use POSIX epoch\n",
    "posix_timestamp_micros_before = (now - epoch) / timedelta(microseconds=1)\n",
    "\n",
    "print('canvas construction start at {}'.format(now))\n",
    "# render the result to a canvas.\n",
    "ca = render_multi(cam, world, 4)\n",
    "\n",
    "\n",
    "now = datetime.now(timezone.utc)\n",
    "epoch = datetime(1970, 1, 1, tzinfo=timezone.utc) # use POSIX epoch\n",
    "posix_timestamp_micros_after = (now - epoch) / timedelta(microseconds=1)\n",
    "delta = posix_timestamp_micros_after - posix_timestamp_micros_before\n",
    "print('canvas constructed in {} seconds.'.format(delta/1000000))\n",
    "\n",
    "\n",
    "ppm = construct_ppm(ca)\n",
    "print('ppm constructed')\n",
    "\n",
    "with open(file_name + ppm_ext, 'wb') as f:\n",
    "    f.write(ppm)\n",
    "print('ppm file written')\n",
    "\n",
    "import PIL.Image as Image\n",
    "from matplotlib.pyplot import imshow\n",
    "\n",
    "%matplotlib inline\n",
    "im = Image.open(file_name + ppm_ext, 'r')\n",
    "im.save(file_name + jpg_ext)\n",
    "imshow(im)"
   ]
  },
  {
   "cell_type": "code",
   "execution_count": null,
   "metadata": {},
   "outputs": [],
   "source": []
  }
 ],
 "metadata": {
  "kernelspec": {
   "display_name": "Python 3",
   "language": "python",
   "name": "python3"
  },
  "language_info": {
   "codemirror_mode": {
    "name": "ipython",
    "version": 3
   },
   "file_extension": ".py",
   "mimetype": "text/x-python",
   "name": "python",
   "nbconvert_exporter": "python",
   "pygments_lexer": "ipython3",
   "version": "3.5.3"
  }
 },
 "nbformat": 4,
 "nbformat_minor": 2
}
