{
 "cells": [
  {
   "cell_type": "code",
   "execution_count": 1,
   "metadata": {},
   "outputs": [
    {
     "name": "stderr",
     "output_type": "stream",
     "text": [
      "ERROR:root:File `'chapter 1.ipynb.py'` not found.\n",
      "ERROR:root:File `'chapter 2.ipynb.py'` not found.\n",
      "ERROR:root:File `'chapter 3.ipynb.py'` not found.\n",
      "ERROR:root:File `'chapter 4.ipynb.py'` not found.\n",
      "ERROR:root:File `'chapter 5.ipynb.py'` not found.\n",
      "ERROR:root:File `'chapter 6.ipynb.py'` not found.\n",
      "ERROR:root:File `'chapter 7.ipynb.py'` not found.\n"
     ]
    }
   ],
   "source": [
    "%run chapter\\ 1.ipynb\n",
    "%run chapter\\ 2.ipynb\n",
    "%run chapter\\ 3.ipynb\n",
    "%run chapter\\ 4.ipynb\n",
    "%run chapter\\ 5.ipynb\n",
    "%run chapter\\ 6.ipynb\n",
    "%run chapter\\ 7.ipynb"
   ]
  },
  {
   "cell_type": "code",
   "execution_count": null,
   "metadata": {},
   "outputs": [],
   "source": []
  },
  {
   "cell_type": "code",
   "execution_count": null,
   "metadata": {},
   "outputs": [],
   "source": [
    "import doctest\n",
    "doctest.testmod()"
   ]
  }
 ],
 "metadata": {
  "kernelspec": {
   "display_name": "Python 3",
   "language": "python",
   "name": "python3"
  },
  "language_info": {
   "codemirror_mode": {
    "name": "ipython",
    "version": 3
   },
   "file_extension": ".py",
   "mimetype": "text/x-python",
   "name": "python",
   "nbconvert_exporter": "python",
   "pygments_lexer": "ipython3",
   "version": "3.5.3"
  }
 },
 "nbformat": 4,
 "nbformat_minor": 2
}
