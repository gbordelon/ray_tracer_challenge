{
 "cells": [
  {
   "cell_type": "code",
   "execution_count": 148,
   "metadata": {},
   "outputs": [],
   "source": [
    "%run chapter\\ 1.ipynb\n",
    "%run chapter\\ 2.ipynb\n",
    "%run chapter\\ 3.ipynb\n",
    "%run chapter\\ 4.ipynb\n",
    "%run chapter\\ 5.ipynb\n",
    "%run chapter\\ 6.ipynb\n",
    "%run chapter\\ 7.ipynb"
   ]
  },
  {
   "cell_type": "code",
   "execution_count": 149,
   "metadata": {
    "scrolled": false
   },
   "outputs": [
    {
     "data": {
      "text/plain": [
       "TestResults(failed=0, attempted=613)"
      ]
     },
     "execution_count": 149,
     "metadata": {},
     "output_type": "execute_result"
    }
   ],
   "source": [
    "import doctest\n",
    "doctest.testmod()"
   ]
  },
  {
   "cell_type": "code",
   "execution_count": 165,
   "metadata": {},
   "outputs": [
    {
     "name": "stdout",
     "output_type": "stream",
     "text": [
      "canvas construction start at 2019-08-29 16:15:08.609605+00:00\n",
      "canvas constructed in 221.808442 seconds.\n",
      "ppm constructed\n",
      "ppm file written\n"
     ]
    },
    {
     "data": {
      "text/plain": [
       "<matplotlib.image.AxesImage at 0x64076c50>"
      ]
     },
     "execution_count": 165,
     "metadata": {},
     "output_type": "execute_result"
    },
    {
     "data": {
      "image/png": "[encoded data removed]",
      "text/plain": [
       "<Figure size 432x288 with 1 Axes>"
      ]
     },
     "metadata": {
      "needs_background": "light"
     },
     "output_type": "display_data"
    }
   ],
   "source": [
    "world = default_world()\n",
    "world.contains = []\n",
    "world.lights = [point_light(point(1.5, 4.8, 1.5), color(.1, .1, .1)),\n",
    "                point_light(point(0, 4.8, 1.5), color(.1, .1, .1)),\n",
    "                point_light(point(-1.5, 4.8, 1.5), color(.1, .1, .1)),\n",
    "                point_light(point(1.5, 4.8, 0), color(.1, .1, .1)),\n",
    "                point_light(point(0, 4.8, 0), color(.2, .2, .2)),\n",
    "                point_light(point(-1.5, 4.8, 0), color(.1, .1, .1)),\n",
    "                point_light(point(1.5, 4.8, -1.5), color(.1, .1, .1)),\n",
    "                point_light(point(0, 4.8, -1.5), color(.1, .1, .1)),\n",
    "                point_light(point(-1.5, 4.8, -1.5), color(.1, .1, .1))]\n",
    "\n",
    "#world.lights = [point_light(point(0, 4.8, 0), color(1, 1, 1))]\n",
    "\n",
    "floor = plane()\n",
    "floor.material.color = color(1, 0.9, 0.9)\n",
    "floor.material.specular = 0\n",
    "#floor.transform = rotation_x(np.pi)\n",
    "\n",
    "\n",
    "ceiling = plane()\n",
    "ceiling.material = floor.material\n",
    "ceiling.transform = translation(0,5,0)\n",
    "\n",
    "\n",
    "back_wall = plane()\n",
    "back_wall.transform = matrix_multiply(translation(0,0,3), rotation_x(np.pi/2))\n",
    "back_wall.material = floor.material\n",
    "\n",
    "\n",
    "left_wall = plane()\n",
    "left_wall.material.color = color(1,0,0)\n",
    "left_wall.material.specular = 0\n",
    "left_wall.transform = matrix_multiply(translation(-3, 0, 0), rotation_z(-np.pi/2))\n",
    "\n",
    "\n",
    "right_wall = plane()\n",
    "right_wall.material.color = color(0,1,0)\n",
    "right_wall.material.specular = 0\n",
    "right_wall.transform = matrix_multiply(translation(3, 0, 0), rotation_z(np.pi/2))\n",
    "\n",
    "\n",
    "middle = sphere()\n",
    "middle.transform = translation(-0.5, 1, 0.5)\n",
    "middle.material = material()\n",
    "middle.material.color = color(0.1, 1, 0.5)\n",
    "middle.material.diffuse = 0.7\n",
    "middle.material.specular = 0.3\n",
    "\n",
    "\n",
    "right = sphere()\n",
    "right.transform = matrix_multiply(translation(1.5, 0.5, -0.5), scaling(0.5, 0.5, 0.5))\n",
    "right.material = material()\n",
    "right.material.color = color(0.5, 1, 0.1)\n",
    "right.material.diffuse = 0.7\n",
    "right.material.specular = 0.3\n",
    "\n",
    "\n",
    "left = sphere()\n",
    "left.transform = matrix_multiply(translation(-1.5, 0.33, -0.75), scaling(0.33, 0.33, 0.33))\n",
    "left.material = material()\n",
    "left.material.color = color(1, 0.8, 0.1)\n",
    "left.material.diffuse = 0.7\n",
    "left.material.specular = 0.3\n",
    "\n",
    "\n",
    "world.contains.extend([floor, ceiling, left_wall, right_wall, back_wall, middle, right, left])\n",
    "\n",
    "\n",
    "cam = camera(100, 100, np.pi/3)\n",
    "t1 = (point(0, 2.0, -8), point(0, 2.0, 1), vector(0, 1, 0))\n",
    "#t2 = (point(0, 2.5, -0.5), point(0, 2.5, -0.5), vector(0, 1, 0))\n",
    "cam.transform = view_transform(*t1)\n",
    "\n",
    "\n",
    "from datetime import datetime, timezone, timedelta\n",
    "now = datetime.now(timezone.utc)\n",
    "epoch = datetime(1970, 1, 1, tzinfo=timezone.utc) # use POSIX epoch\n",
    "posix_timestamp_micros_before = (now - epoch) / timedelta(microseconds=1)\n",
    "\n",
    "print('canvas construction start at {}'.format(now))\n",
    "# render the result to a canvas.\n",
    "ca = render_multi(cam, world, 4)\n",
    "\n",
    "\n",
    "now = datetime.now(timezone.utc)\n",
    "epoch = datetime(1970, 1, 1, tzinfo=timezone.utc) # use POSIX epoch\n",
    "posix_timestamp_micros_after = (now - epoch) / timedelta(microseconds=1)\n",
    "delta = posix_timestamp_micros_after - posix_timestamp_micros_before\n",
    "print('canvas constructed in {} seconds.'.format(delta/1000000))\n",
    "\n",
    "\n",
    "ppm = construct_ppm(ca)\n",
    "print('ppm constructed')\n",
    "\n",
    "with open('./cornellbox3.ppm', 'wb') as f:\n",
    "    f.write(ppm)\n",
    "print('ppm file written')\n",
    "\n",
    "import PIL.Image as Image\n",
    "from matplotlib.pyplot import imshow\n",
    "\n",
    "%matplotlib inline\n",
    "im = Image.open('./cornellbox3.ppm', 'r')\n",
    "im.save('./cornellbox3.jpg')\n",
    "imshow(im)"
   ]
  }
 ],
 "metadata": {
  "kernelspec": {
   "display_name": "Python 3",
   "language": "python",
   "name": "python3"
  },
  "language_info": {
   "codemirror_mode": {
    "name": "ipython",
    "version": 3
   },
   "file_extension": ".py",
   "mimetype": "text/x-python",
   "name": "python",
   "nbconvert_exporter": "python",
   "pygments_lexer": "ipython3",
   "version": "3.5.3"
  }
 },
 "nbformat": 4,
 "nbformat_minor": 2
}
